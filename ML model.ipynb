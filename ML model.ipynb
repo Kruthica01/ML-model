{
 "cells": [
  {
   "cell_type": "markdown",
   "id": "b5552da7",
   "metadata": {},
   "source": [
    "# MACHINE LEARNING MODEL"
   ]
  },
  {
   "cell_type": "markdown",
   "id": "90133b6b",
   "metadata": {},
   "source": [
    "## Importing the dataset"
   ]
  },
  {
   "cell_type": "markdown",
   "id": "4aee473b",
   "metadata": {},
   "source": [
    "Here in this machine learning model we are going to predict the solubility of molecules using other features namely MolLogP\n",
    "MolWt,NumRotatableBondsand its Aromatic proportion"
   ]
  },
  {
   "cell_type": "code",
   "execution_count": 1,
   "id": "7954afe8",
   "metadata": {},
   "outputs": [],
   "source": [
    "##importing the necessary libraries and packages\n",
    "import pandas as pd\n",
    "import numpy as np"
   ]
  },
  {
   "cell_type": "code",
   "execution_count": 3,
   "id": "c1209e67",
   "metadata": {},
   "outputs": [],
   "source": [
    "df=pd.read_csv(\"https://raw.githubusercontent.com/dataprofessor/data/master/delaney_solubility_with_descriptors.csv\")"
   ]
  },
  {
   "cell_type": "code",
   "execution_count": 4,
   "id": "5ca20989",
   "metadata": {
    "scrolled": true
   },
   "outputs": [
    {
     "data": {
      "text/html": [
       "<div>\n",
       "<style scoped>\n",
       "    .dataframe tbody tr th:only-of-type {\n",
       "        vertical-align: middle;\n",
       "    }\n",
       "\n",
       "    .dataframe tbody tr th {\n",
       "        vertical-align: top;\n",
       "    }\n",
       "\n",
       "    .dataframe thead th {\n",
       "        text-align: right;\n",
       "    }\n",
       "</style>\n",
       "<table border=\"1\" class=\"dataframe\">\n",
       "  <thead>\n",
       "    <tr style=\"text-align: right;\">\n",
       "      <th></th>\n",
       "      <th>MolLogP</th>\n",
       "      <th>MolWt</th>\n",
       "      <th>NumRotatableBonds</th>\n",
       "      <th>AromaticProportion</th>\n",
       "      <th>logS</th>\n",
       "    </tr>\n",
       "  </thead>\n",
       "  <tbody>\n",
       "    <tr>\n",
       "      <th>0</th>\n",
       "      <td>2.59540</td>\n",
       "      <td>167.850</td>\n",
       "      <td>0.0</td>\n",
       "      <td>0.000000</td>\n",
       "      <td>-2.180</td>\n",
       "    </tr>\n",
       "    <tr>\n",
       "      <th>1</th>\n",
       "      <td>2.37650</td>\n",
       "      <td>133.405</td>\n",
       "      <td>0.0</td>\n",
       "      <td>0.000000</td>\n",
       "      <td>-2.000</td>\n",
       "    </tr>\n",
       "    <tr>\n",
       "      <th>2</th>\n",
       "      <td>2.59380</td>\n",
       "      <td>167.850</td>\n",
       "      <td>1.0</td>\n",
       "      <td>0.000000</td>\n",
       "      <td>-1.740</td>\n",
       "    </tr>\n",
       "    <tr>\n",
       "      <th>3</th>\n",
       "      <td>2.02890</td>\n",
       "      <td>133.405</td>\n",
       "      <td>1.0</td>\n",
       "      <td>0.000000</td>\n",
       "      <td>-1.480</td>\n",
       "    </tr>\n",
       "    <tr>\n",
       "      <th>4</th>\n",
       "      <td>2.91890</td>\n",
       "      <td>187.375</td>\n",
       "      <td>1.0</td>\n",
       "      <td>0.000000</td>\n",
       "      <td>-3.040</td>\n",
       "    </tr>\n",
       "    <tr>\n",
       "      <th>...</th>\n",
       "      <td>...</td>\n",
       "      <td>...</td>\n",
       "      <td>...</td>\n",
       "      <td>...</td>\n",
       "      <td>...</td>\n",
       "    </tr>\n",
       "    <tr>\n",
       "      <th>1139</th>\n",
       "      <td>1.98820</td>\n",
       "      <td>287.343</td>\n",
       "      <td>8.0</td>\n",
       "      <td>0.000000</td>\n",
       "      <td>1.144</td>\n",
       "    </tr>\n",
       "    <tr>\n",
       "      <th>1140</th>\n",
       "      <td>3.42130</td>\n",
       "      <td>286.114</td>\n",
       "      <td>2.0</td>\n",
       "      <td>0.333333</td>\n",
       "      <td>-4.925</td>\n",
       "    </tr>\n",
       "    <tr>\n",
       "      <th>1141</th>\n",
       "      <td>3.60960</td>\n",
       "      <td>308.333</td>\n",
       "      <td>4.0</td>\n",
       "      <td>0.695652</td>\n",
       "      <td>-3.893</td>\n",
       "    </tr>\n",
       "    <tr>\n",
       "      <th>1142</th>\n",
       "      <td>2.56214</td>\n",
       "      <td>354.815</td>\n",
       "      <td>3.0</td>\n",
       "      <td>0.521739</td>\n",
       "      <td>-3.790</td>\n",
       "    </tr>\n",
       "    <tr>\n",
       "      <th>1143</th>\n",
       "      <td>2.02164</td>\n",
       "      <td>179.219</td>\n",
       "      <td>1.0</td>\n",
       "      <td>0.461538</td>\n",
       "      <td>-2.581</td>\n",
       "    </tr>\n",
       "  </tbody>\n",
       "</table>\n",
       "<p>1144 rows × 5 columns</p>\n",
       "</div>"
      ],
      "text/plain": [
       "      MolLogP    MolWt  NumRotatableBonds  AromaticProportion   logS\n",
       "0     2.59540  167.850                0.0            0.000000 -2.180\n",
       "1     2.37650  133.405                0.0            0.000000 -2.000\n",
       "2     2.59380  167.850                1.0            0.000000 -1.740\n",
       "3     2.02890  133.405                1.0            0.000000 -1.480\n",
       "4     2.91890  187.375                1.0            0.000000 -3.040\n",
       "...       ...      ...                ...                 ...    ...\n",
       "1139  1.98820  287.343                8.0            0.000000  1.144\n",
       "1140  3.42130  286.114                2.0            0.333333 -4.925\n",
       "1141  3.60960  308.333                4.0            0.695652 -3.893\n",
       "1142  2.56214  354.815                3.0            0.521739 -3.790\n",
       "1143  2.02164  179.219                1.0            0.461538 -2.581\n",
       "\n",
       "[1144 rows x 5 columns]"
      ]
     },
     "execution_count": 4,
     "metadata": {},
     "output_type": "execute_result"
    }
   ],
   "source": [
    "df"
   ]
  },
  {
   "cell_type": "markdown",
   "id": "915564d3",
   "metadata": {},
   "source": [
    "## Data Preprocessing"
   ]
  },
  {
   "cell_type": "code",
   "execution_count": 5,
   "id": "a37d8788",
   "metadata": {
    "scrolled": true
   },
   "outputs": [
    {
     "data": {
      "text/html": [
       "<div>\n",
       "<style scoped>\n",
       "    .dataframe tbody tr th:only-of-type {\n",
       "        vertical-align: middle;\n",
       "    }\n",
       "\n",
       "    .dataframe tbody tr th {\n",
       "        vertical-align: top;\n",
       "    }\n",
       "\n",
       "    .dataframe thead th {\n",
       "        text-align: right;\n",
       "    }\n",
       "</style>\n",
       "<table border=\"1\" class=\"dataframe\">\n",
       "  <thead>\n",
       "    <tr style=\"text-align: right;\">\n",
       "      <th></th>\n",
       "      <th>MolLogP</th>\n",
       "      <th>MolWt</th>\n",
       "      <th>NumRotatableBonds</th>\n",
       "      <th>AromaticProportion</th>\n",
       "      <th>logS</th>\n",
       "    </tr>\n",
       "  </thead>\n",
       "  <tbody>\n",
       "    <tr>\n",
       "      <th>0</th>\n",
       "      <td>2.5954</td>\n",
       "      <td>167.850</td>\n",
       "      <td>0.0</td>\n",
       "      <td>0.0</td>\n",
       "      <td>-2.18</td>\n",
       "    </tr>\n",
       "    <tr>\n",
       "      <th>1</th>\n",
       "      <td>2.3765</td>\n",
       "      <td>133.405</td>\n",
       "      <td>0.0</td>\n",
       "      <td>0.0</td>\n",
       "      <td>-2.00</td>\n",
       "    </tr>\n",
       "    <tr>\n",
       "      <th>2</th>\n",
       "      <td>2.5938</td>\n",
       "      <td>167.850</td>\n",
       "      <td>1.0</td>\n",
       "      <td>0.0</td>\n",
       "      <td>-1.74</td>\n",
       "    </tr>\n",
       "    <tr>\n",
       "      <th>3</th>\n",
       "      <td>2.0289</td>\n",
       "      <td>133.405</td>\n",
       "      <td>1.0</td>\n",
       "      <td>0.0</td>\n",
       "      <td>-1.48</td>\n",
       "    </tr>\n",
       "    <tr>\n",
       "      <th>4</th>\n",
       "      <td>2.9189</td>\n",
       "      <td>187.375</td>\n",
       "      <td>1.0</td>\n",
       "      <td>0.0</td>\n",
       "      <td>-3.04</td>\n",
       "    </tr>\n",
       "  </tbody>\n",
       "</table>\n",
       "</div>"
      ],
      "text/plain": [
       "   MolLogP    MolWt  NumRotatableBonds  AromaticProportion  logS\n",
       "0   2.5954  167.850                0.0                 0.0 -2.18\n",
       "1   2.3765  133.405                0.0                 0.0 -2.00\n",
       "2   2.5938  167.850                1.0                 0.0 -1.74\n",
       "3   2.0289  133.405                1.0                 0.0 -1.48\n",
       "4   2.9189  187.375                1.0                 0.0 -3.04"
      ]
     },
     "execution_count": 5,
     "metadata": {},
     "output_type": "execute_result"
    }
   ],
   "source": [
    "## Top 5 rows of the dataset\n",
    "df.head()"
   ]
  },
  {
   "cell_type": "code",
   "execution_count": 6,
   "id": "0f93bd16",
   "metadata": {
    "scrolled": true
   },
   "outputs": [
    {
     "data": {
      "text/html": [
       "<div>\n",
       "<style scoped>\n",
       "    .dataframe tbody tr th:only-of-type {\n",
       "        vertical-align: middle;\n",
       "    }\n",
       "\n",
       "    .dataframe tbody tr th {\n",
       "        vertical-align: top;\n",
       "    }\n",
       "\n",
       "    .dataframe thead th {\n",
       "        text-align: right;\n",
       "    }\n",
       "</style>\n",
       "<table border=\"1\" class=\"dataframe\">\n",
       "  <thead>\n",
       "    <tr style=\"text-align: right;\">\n",
       "      <th></th>\n",
       "      <th>MolLogP</th>\n",
       "      <th>MolWt</th>\n",
       "      <th>NumRotatableBonds</th>\n",
       "      <th>AromaticProportion</th>\n",
       "      <th>logS</th>\n",
       "    </tr>\n",
       "  </thead>\n",
       "  <tbody>\n",
       "    <tr>\n",
       "      <th>1139</th>\n",
       "      <td>1.98820</td>\n",
       "      <td>287.343</td>\n",
       "      <td>8.0</td>\n",
       "      <td>0.000000</td>\n",
       "      <td>1.144</td>\n",
       "    </tr>\n",
       "    <tr>\n",
       "      <th>1140</th>\n",
       "      <td>3.42130</td>\n",
       "      <td>286.114</td>\n",
       "      <td>2.0</td>\n",
       "      <td>0.333333</td>\n",
       "      <td>-4.925</td>\n",
       "    </tr>\n",
       "    <tr>\n",
       "      <th>1141</th>\n",
       "      <td>3.60960</td>\n",
       "      <td>308.333</td>\n",
       "      <td>4.0</td>\n",
       "      <td>0.695652</td>\n",
       "      <td>-3.893</td>\n",
       "    </tr>\n",
       "    <tr>\n",
       "      <th>1142</th>\n",
       "      <td>2.56214</td>\n",
       "      <td>354.815</td>\n",
       "      <td>3.0</td>\n",
       "      <td>0.521739</td>\n",
       "      <td>-3.790</td>\n",
       "    </tr>\n",
       "    <tr>\n",
       "      <th>1143</th>\n",
       "      <td>2.02164</td>\n",
       "      <td>179.219</td>\n",
       "      <td>1.0</td>\n",
       "      <td>0.461538</td>\n",
       "      <td>-2.581</td>\n",
       "    </tr>\n",
       "  </tbody>\n",
       "</table>\n",
       "</div>"
      ],
      "text/plain": [
       "      MolLogP    MolWt  NumRotatableBonds  AromaticProportion   logS\n",
       "1139  1.98820  287.343                8.0            0.000000  1.144\n",
       "1140  3.42130  286.114                2.0            0.333333 -4.925\n",
       "1141  3.60960  308.333                4.0            0.695652 -3.893\n",
       "1142  2.56214  354.815                3.0            0.521739 -3.790\n",
       "1143  2.02164  179.219                1.0            0.461538 -2.581"
      ]
     },
     "execution_count": 6,
     "metadata": {},
     "output_type": "execute_result"
    }
   ],
   "source": [
    "##Bottom 5 rows of the dataset\n",
    "df.tail()"
   ]
  },
  {
   "cell_type": "code",
   "execution_count": 7,
   "id": "89840615",
   "metadata": {
    "scrolled": true
   },
   "outputs": [
    {
     "data": {
      "text/html": [
       "<div>\n",
       "<style scoped>\n",
       "    .dataframe tbody tr th:only-of-type {\n",
       "        vertical-align: middle;\n",
       "    }\n",
       "\n",
       "    .dataframe tbody tr th {\n",
       "        vertical-align: top;\n",
       "    }\n",
       "\n",
       "    .dataframe thead th {\n",
       "        text-align: right;\n",
       "    }\n",
       "</style>\n",
       "<table border=\"1\" class=\"dataframe\">\n",
       "  <thead>\n",
       "    <tr style=\"text-align: right;\">\n",
       "      <th></th>\n",
       "      <th>MolLogP</th>\n",
       "      <th>MolWt</th>\n",
       "      <th>NumRotatableBonds</th>\n",
       "      <th>AromaticProportion</th>\n",
       "      <th>logS</th>\n",
       "    </tr>\n",
       "  </thead>\n",
       "  <tbody>\n",
       "    <tr>\n",
       "      <th>count</th>\n",
       "      <td>1144.000000</td>\n",
       "      <td>1144.000000</td>\n",
       "      <td>1144.000000</td>\n",
       "      <td>1144.000000</td>\n",
       "      <td>1144.000000</td>\n",
       "    </tr>\n",
       "    <tr>\n",
       "      <th>mean</th>\n",
       "      <td>2.449133</td>\n",
       "      <td>204.631675</td>\n",
       "      <td>2.173951</td>\n",
       "      <td>0.364932</td>\n",
       "      <td>-3.057997</td>\n",
       "    </tr>\n",
       "    <tr>\n",
       "      <th>std</th>\n",
       "      <td>1.866003</td>\n",
       "      <td>102.620500</td>\n",
       "      <td>2.627398</td>\n",
       "      <td>0.343305</td>\n",
       "      <td>2.096502</td>\n",
       "    </tr>\n",
       "    <tr>\n",
       "      <th>min</th>\n",
       "      <td>-7.571400</td>\n",
       "      <td>16.043000</td>\n",
       "      <td>0.000000</td>\n",
       "      <td>0.000000</td>\n",
       "      <td>-11.600000</td>\n",
       "    </tr>\n",
       "    <tr>\n",
       "      <th>25%</th>\n",
       "      <td>1.414900</td>\n",
       "      <td>122.126000</td>\n",
       "      <td>0.000000</td>\n",
       "      <td>0.000000</td>\n",
       "      <td>-4.332250</td>\n",
       "    </tr>\n",
       "    <tr>\n",
       "      <th>50%</th>\n",
       "      <td>2.340300</td>\n",
       "      <td>183.594500</td>\n",
       "      <td>1.000000</td>\n",
       "      <td>0.375000</td>\n",
       "      <td>-2.870500</td>\n",
       "    </tr>\n",
       "    <tr>\n",
       "      <th>75%</th>\n",
       "      <td>3.406475</td>\n",
       "      <td>270.715750</td>\n",
       "      <td>3.000000</td>\n",
       "      <td>0.666667</td>\n",
       "      <td>-1.600000</td>\n",
       "    </tr>\n",
       "    <tr>\n",
       "      <th>max</th>\n",
       "      <td>10.388600</td>\n",
       "      <td>780.949000</td>\n",
       "      <td>23.000000</td>\n",
       "      <td>1.000000</td>\n",
       "      <td>1.580000</td>\n",
       "    </tr>\n",
       "  </tbody>\n",
       "</table>\n",
       "</div>"
      ],
      "text/plain": [
       "           MolLogP        MolWt  NumRotatableBonds  AromaticProportion  \\\n",
       "count  1144.000000  1144.000000        1144.000000         1144.000000   \n",
       "mean      2.449133   204.631675           2.173951            0.364932   \n",
       "std       1.866003   102.620500           2.627398            0.343305   \n",
       "min      -7.571400    16.043000           0.000000            0.000000   \n",
       "25%       1.414900   122.126000           0.000000            0.000000   \n",
       "50%       2.340300   183.594500           1.000000            0.375000   \n",
       "75%       3.406475   270.715750           3.000000            0.666667   \n",
       "max      10.388600   780.949000          23.000000            1.000000   \n",
       "\n",
       "              logS  \n",
       "count  1144.000000  \n",
       "mean     -3.057997  \n",
       "std       2.096502  \n",
       "min     -11.600000  \n",
       "25%      -4.332250  \n",
       "50%      -2.870500  \n",
       "75%      -1.600000  \n",
       "max       1.580000  "
      ]
     },
     "execution_count": 7,
     "metadata": {},
     "output_type": "execute_result"
    }
   ],
   "source": [
    "## Describe the function used to find the mean,count,standard deviation and related things\n",
    "df.describe()"
   ]
  },
  {
   "cell_type": "code",
   "execution_count": 8,
   "id": "2de1359c",
   "metadata": {
    "scrolled": true
   },
   "outputs": [
    {
     "name": "stdout",
     "output_type": "stream",
     "text": [
      "MolLogP               0\n",
      "MolWt                 0\n",
      "NumRotatableBonds     0\n",
      "AromaticProportion    0\n",
      "logS                  0\n",
      "dtype: int64\n"
     ]
    }
   ],
   "source": [
    "## To find number of null values\n",
    "print(df.isnull().sum())"
   ]
  },
  {
   "cell_type": "code",
   "execution_count": 10,
   "id": "1cde4d21",
   "metadata": {},
   "outputs": [
    {
     "data": {
      "text/plain": [
       "(1144, 5)"
      ]
     },
     "execution_count": 10,
     "metadata": {},
     "output_type": "execute_result"
    }
   ],
   "source": [
    "## Shape of dataset\n",
    "df.shape"
   ]
  },
  {
   "cell_type": "code",
   "execution_count": 13,
   "id": "377c583f",
   "metadata": {},
   "outputs": [
    {
     "data": {
      "text/plain": [
       "5720"
      ]
     },
     "execution_count": 13,
     "metadata": {},
     "output_type": "execute_result"
    }
   ],
   "source": [
    "## Size of dataset\n",
    "df.size"
   ]
  },
  {
   "cell_type": "code",
   "execution_count": 11,
   "id": "ae22324c",
   "metadata": {
    "scrolled": true
   },
   "outputs": [
    {
     "data": {
      "text/plain": [
       "MolLogP               float64\n",
       "MolWt                 float64\n",
       "NumRotatableBonds     float64\n",
       "AromaticProportion    float64\n",
       "logS                  float64\n",
       "dtype: object"
      ]
     },
     "execution_count": 11,
     "metadata": {},
     "output_type": "execute_result"
    }
   ],
   "source": [
    "### datatype of each column\n",
    "df.dtypes"
   ]
  },
  {
   "cell_type": "code",
   "execution_count": 12,
   "id": "c7fdd700",
   "metadata": {
    "scrolled": true
   },
   "outputs": [
    {
     "data": {
      "text/plain": [
       "<bound method DataFrame.info of       MolLogP    MolWt  NumRotatableBonds  AromaticProportion   logS\n",
       "0     2.59540  167.850                0.0            0.000000 -2.180\n",
       "1     2.37650  133.405                0.0            0.000000 -2.000\n",
       "2     2.59380  167.850                1.0            0.000000 -1.740\n",
       "3     2.02890  133.405                1.0            0.000000 -1.480\n",
       "4     2.91890  187.375                1.0            0.000000 -3.040\n",
       "...       ...      ...                ...                 ...    ...\n",
       "1139  1.98820  287.343                8.0            0.000000  1.144\n",
       "1140  3.42130  286.114                2.0            0.333333 -4.925\n",
       "1141  3.60960  308.333                4.0            0.695652 -3.893\n",
       "1142  2.56214  354.815                3.0            0.521739 -3.790\n",
       "1143  2.02164  179.219                1.0            0.461538 -2.581\n",
       "\n",
       "[1144 rows x 5 columns]>"
      ]
     },
     "execution_count": 12,
     "metadata": {},
     "output_type": "execute_result"
    }
   ],
   "source": [
    "## info gives count and datatype\n",
    "df.info"
   ]
  },
  {
   "cell_type": "markdown",
   "id": "75310939",
   "metadata": {},
   "source": [
    "## Splitting the dataset"
   ]
  },
  {
   "cell_type": "markdown",
   "id": "e3625cc0",
   "metadata": {},
   "source": [
    "Here the column of target variable i.e.,Logs is seperated from the other columns of the dataset"
   ]
  },
  {
   "cell_type": "code",
   "execution_count": 6,
   "id": "0a501922",
   "metadata": {},
   "outputs": [
    {
     "data": {
      "text/plain": [
       "0      -2.180\n",
       "1      -2.000\n",
       "2      -1.740\n",
       "3      -1.480\n",
       "4      -3.040\n",
       "        ...  \n",
       "1139    1.144\n",
       "1140   -4.925\n",
       "1141   -3.893\n",
       "1142   -3.790\n",
       "1143   -2.581\n",
       "Name: logS, Length: 1144, dtype: float64"
      ]
     },
     "execution_count": 6,
     "metadata": {},
     "output_type": "execute_result"
    }
   ],
   "source": [
    "y=df['logS']\n",
    "y"
   ]
  },
  {
   "cell_type": "code",
   "execution_count": 10,
   "id": "be49a152",
   "metadata": {
    "scrolled": true
   },
   "outputs": [
    {
     "data": {
      "text/html": [
       "<div>\n",
       "<style scoped>\n",
       "    .dataframe tbody tr th:only-of-type {\n",
       "        vertical-align: middle;\n",
       "    }\n",
       "\n",
       "    .dataframe tbody tr th {\n",
       "        vertical-align: top;\n",
       "    }\n",
       "\n",
       "    .dataframe thead th {\n",
       "        text-align: right;\n",
       "    }\n",
       "</style>\n",
       "<table border=\"1\" class=\"dataframe\">\n",
       "  <thead>\n",
       "    <tr style=\"text-align: right;\">\n",
       "      <th></th>\n",
       "      <th>MolLogP</th>\n",
       "      <th>MolWt</th>\n",
       "      <th>NumRotatableBonds</th>\n",
       "      <th>AromaticProportion</th>\n",
       "    </tr>\n",
       "  </thead>\n",
       "  <tbody>\n",
       "    <tr>\n",
       "      <th>0</th>\n",
       "      <td>2.59540</td>\n",
       "      <td>167.850</td>\n",
       "      <td>0.0</td>\n",
       "      <td>0.000000</td>\n",
       "    </tr>\n",
       "    <tr>\n",
       "      <th>1</th>\n",
       "      <td>2.37650</td>\n",
       "      <td>133.405</td>\n",
       "      <td>0.0</td>\n",
       "      <td>0.000000</td>\n",
       "    </tr>\n",
       "    <tr>\n",
       "      <th>2</th>\n",
       "      <td>2.59380</td>\n",
       "      <td>167.850</td>\n",
       "      <td>1.0</td>\n",
       "      <td>0.000000</td>\n",
       "    </tr>\n",
       "    <tr>\n",
       "      <th>3</th>\n",
       "      <td>2.02890</td>\n",
       "      <td>133.405</td>\n",
       "      <td>1.0</td>\n",
       "      <td>0.000000</td>\n",
       "    </tr>\n",
       "    <tr>\n",
       "      <th>4</th>\n",
       "      <td>2.91890</td>\n",
       "      <td>187.375</td>\n",
       "      <td>1.0</td>\n",
       "      <td>0.000000</td>\n",
       "    </tr>\n",
       "    <tr>\n",
       "      <th>...</th>\n",
       "      <td>...</td>\n",
       "      <td>...</td>\n",
       "      <td>...</td>\n",
       "      <td>...</td>\n",
       "    </tr>\n",
       "    <tr>\n",
       "      <th>1139</th>\n",
       "      <td>1.98820</td>\n",
       "      <td>287.343</td>\n",
       "      <td>8.0</td>\n",
       "      <td>0.000000</td>\n",
       "    </tr>\n",
       "    <tr>\n",
       "      <th>1140</th>\n",
       "      <td>3.42130</td>\n",
       "      <td>286.114</td>\n",
       "      <td>2.0</td>\n",
       "      <td>0.333333</td>\n",
       "    </tr>\n",
       "    <tr>\n",
       "      <th>1141</th>\n",
       "      <td>3.60960</td>\n",
       "      <td>308.333</td>\n",
       "      <td>4.0</td>\n",
       "      <td>0.695652</td>\n",
       "    </tr>\n",
       "    <tr>\n",
       "      <th>1142</th>\n",
       "      <td>2.56214</td>\n",
       "      <td>354.815</td>\n",
       "      <td>3.0</td>\n",
       "      <td>0.521739</td>\n",
       "    </tr>\n",
       "    <tr>\n",
       "      <th>1143</th>\n",
       "      <td>2.02164</td>\n",
       "      <td>179.219</td>\n",
       "      <td>1.0</td>\n",
       "      <td>0.461538</td>\n",
       "    </tr>\n",
       "  </tbody>\n",
       "</table>\n",
       "<p>1144 rows × 4 columns</p>\n",
       "</div>"
      ],
      "text/plain": [
       "      MolLogP    MolWt  NumRotatableBonds  AromaticProportion\n",
       "0     2.59540  167.850                0.0            0.000000\n",
       "1     2.37650  133.405                0.0            0.000000\n",
       "2     2.59380  167.850                1.0            0.000000\n",
       "3     2.02890  133.405                1.0            0.000000\n",
       "4     2.91890  187.375                1.0            0.000000\n",
       "...       ...      ...                ...                 ...\n",
       "1139  1.98820  287.343                8.0            0.000000\n",
       "1140  3.42130  286.114                2.0            0.333333\n",
       "1141  3.60960  308.333                4.0            0.695652\n",
       "1142  2.56214  354.815                3.0            0.521739\n",
       "1143  2.02164  179.219                1.0            0.461538\n",
       "\n",
       "[1144 rows x 4 columns]"
      ]
     },
     "execution_count": 10,
     "metadata": {},
     "output_type": "execute_result"
    }
   ],
   "source": [
    "x=df.drop('logS',axis=1)\n",
    "x"
   ]
  },
  {
   "cell_type": "markdown",
   "id": "7bd8669a",
   "metadata": {},
   "source": [
    "## Model Training"
   ]
  },
  {
   "cell_type": "code",
   "execution_count": 11,
   "id": "d41edef0",
   "metadata": {},
   "outputs": [],
   "source": [
    "from sklearn.model_selection import train_test_split"
   ]
  },
  {
   "cell_type": "code",
   "execution_count": 12,
   "id": "e27580e4",
   "metadata": {},
   "outputs": [],
   "source": [
    "x_train,x_test,y_train,y_test=train_test_split(x,y,test_size=0.33,random_state=100)"
   ]
  },
  {
   "cell_type": "code",
   "execution_count": 13,
   "id": "e2ad29f4",
   "metadata": {},
   "outputs": [
    {
     "data": {
      "text/html": [
       "<div>\n",
       "<style scoped>\n",
       "    .dataframe tbody tr th:only-of-type {\n",
       "        vertical-align: middle;\n",
       "    }\n",
       "\n",
       "    .dataframe tbody tr th {\n",
       "        vertical-align: top;\n",
       "    }\n",
       "\n",
       "    .dataframe thead th {\n",
       "        text-align: right;\n",
       "    }\n",
       "</style>\n",
       "<table border=\"1\" class=\"dataframe\">\n",
       "  <thead>\n",
       "    <tr style=\"text-align: right;\">\n",
       "      <th></th>\n",
       "      <th>MolLogP</th>\n",
       "      <th>MolWt</th>\n",
       "      <th>NumRotatableBonds</th>\n",
       "      <th>AromaticProportion</th>\n",
       "    </tr>\n",
       "  </thead>\n",
       "  <tbody>\n",
       "    <tr>\n",
       "      <th>321</th>\n",
       "      <td>3.66202</td>\n",
       "      <td>168.239</td>\n",
       "      <td>1.0</td>\n",
       "      <td>0.923077</td>\n",
       "    </tr>\n",
       "    <tr>\n",
       "      <th>29</th>\n",
       "      <td>0.40510</td>\n",
       "      <td>58.080</td>\n",
       "      <td>0.0</td>\n",
       "      <td>0.000000</td>\n",
       "    </tr>\n",
       "    <tr>\n",
       "      <th>184</th>\n",
       "      <td>3.45664</td>\n",
       "      <td>156.228</td>\n",
       "      <td>0.0</td>\n",
       "      <td>0.833333</td>\n",
       "    </tr>\n",
       "    <tr>\n",
       "      <th>103</th>\n",
       "      <td>3.53290</td>\n",
       "      <td>126.243</td>\n",
       "      <td>6.0</td>\n",
       "      <td>0.000000</td>\n",
       "    </tr>\n",
       "    <tr>\n",
       "      <th>100</th>\n",
       "      <td>2.74800</td>\n",
       "      <td>173.171</td>\n",
       "      <td>1.0</td>\n",
       "      <td>0.769231</td>\n",
       "    </tr>\n",
       "    <tr>\n",
       "      <th>...</th>\n",
       "      <td>...</td>\n",
       "      <td>...</td>\n",
       "      <td>...</td>\n",
       "      <td>...</td>\n",
       "    </tr>\n",
       "    <tr>\n",
       "      <th>802</th>\n",
       "      <td>3.00254</td>\n",
       "      <td>250.301</td>\n",
       "      <td>1.0</td>\n",
       "      <td>0.842105</td>\n",
       "    </tr>\n",
       "    <tr>\n",
       "      <th>53</th>\n",
       "      <td>2.13860</td>\n",
       "      <td>82.146</td>\n",
       "      <td>3.0</td>\n",
       "      <td>0.000000</td>\n",
       "    </tr>\n",
       "    <tr>\n",
       "      <th>350</th>\n",
       "      <td>5.76304</td>\n",
       "      <td>256.348</td>\n",
       "      <td>0.0</td>\n",
       "      <td>0.900000</td>\n",
       "    </tr>\n",
       "    <tr>\n",
       "      <th>79</th>\n",
       "      <td>3.89960</td>\n",
       "      <td>186.339</td>\n",
       "      <td>10.0</td>\n",
       "      <td>0.000000</td>\n",
       "    </tr>\n",
       "    <tr>\n",
       "      <th>792</th>\n",
       "      <td>2.52334</td>\n",
       "      <td>310.297</td>\n",
       "      <td>3.0</td>\n",
       "      <td>0.300000</td>\n",
       "    </tr>\n",
       "  </tbody>\n",
       "</table>\n",
       "<p>766 rows × 4 columns</p>\n",
       "</div>"
      ],
      "text/plain": [
       "     MolLogP    MolWt  NumRotatableBonds  AromaticProportion\n",
       "321  3.66202  168.239                1.0            0.923077\n",
       "29   0.40510   58.080                0.0            0.000000\n",
       "184  3.45664  156.228                0.0            0.833333\n",
       "103  3.53290  126.243                6.0            0.000000\n",
       "100  2.74800  173.171                1.0            0.769231\n",
       "..       ...      ...                ...                 ...\n",
       "802  3.00254  250.301                1.0            0.842105\n",
       "53   2.13860   82.146                3.0            0.000000\n",
       "350  5.76304  256.348                0.0            0.900000\n",
       "79   3.89960  186.339               10.0            0.000000\n",
       "792  2.52334  310.297                3.0            0.300000\n",
       "\n",
       "[766 rows x 4 columns]"
      ]
     },
     "execution_count": 13,
     "metadata": {},
     "output_type": "execute_result"
    }
   ],
   "source": [
    "x_train"
   ]
  },
  {
   "cell_type": "code",
   "execution_count": 14,
   "id": "b027befc",
   "metadata": {},
   "outputs": [
    {
     "data": {
      "text/html": [
       "<div>\n",
       "<style scoped>\n",
       "    .dataframe tbody tr th:only-of-type {\n",
       "        vertical-align: middle;\n",
       "    }\n",
       "\n",
       "    .dataframe tbody tr th {\n",
       "        vertical-align: top;\n",
       "    }\n",
       "\n",
       "    .dataframe thead th {\n",
       "        text-align: right;\n",
       "    }\n",
       "</style>\n",
       "<table border=\"1\" class=\"dataframe\">\n",
       "  <thead>\n",
       "    <tr style=\"text-align: right;\">\n",
       "      <th></th>\n",
       "      <th>MolLogP</th>\n",
       "      <th>MolWt</th>\n",
       "      <th>NumRotatableBonds</th>\n",
       "      <th>AromaticProportion</th>\n",
       "    </tr>\n",
       "  </thead>\n",
       "  <tbody>\n",
       "    <tr>\n",
       "      <th>822</th>\n",
       "      <td>2.91000</td>\n",
       "      <td>172.268</td>\n",
       "      <td>7.0</td>\n",
       "      <td>0.000000</td>\n",
       "    </tr>\n",
       "    <tr>\n",
       "      <th>118</th>\n",
       "      <td>7.27400</td>\n",
       "      <td>360.882</td>\n",
       "      <td>1.0</td>\n",
       "      <td>0.666667</td>\n",
       "    </tr>\n",
       "    <tr>\n",
       "      <th>347</th>\n",
       "      <td>1.94040</td>\n",
       "      <td>145.161</td>\n",
       "      <td>0.0</td>\n",
       "      <td>0.909091</td>\n",
       "    </tr>\n",
       "    <tr>\n",
       "      <th>1123</th>\n",
       "      <td>1.98640</td>\n",
       "      <td>119.378</td>\n",
       "      <td>0.0</td>\n",
       "      <td>0.000000</td>\n",
       "    </tr>\n",
       "    <tr>\n",
       "      <th>924</th>\n",
       "      <td>1.70062</td>\n",
       "      <td>108.140</td>\n",
       "      <td>0.0</td>\n",
       "      <td>0.750000</td>\n",
       "    </tr>\n",
       "    <tr>\n",
       "      <th>...</th>\n",
       "      <td>...</td>\n",
       "      <td>...</td>\n",
       "      <td>...</td>\n",
       "      <td>...</td>\n",
       "    </tr>\n",
       "    <tr>\n",
       "      <th>615</th>\n",
       "      <td>3.47890</td>\n",
       "      <td>170.211</td>\n",
       "      <td>2.0</td>\n",
       "      <td>0.923077</td>\n",
       "    </tr>\n",
       "    <tr>\n",
       "      <th>533</th>\n",
       "      <td>0.69300</td>\n",
       "      <td>210.233</td>\n",
       "      <td>0.0</td>\n",
       "      <td>0.000000</td>\n",
       "    </tr>\n",
       "    <tr>\n",
       "      <th>789</th>\n",
       "      <td>0.84980</td>\n",
       "      <td>196.202</td>\n",
       "      <td>2.0</td>\n",
       "      <td>0.000000</td>\n",
       "    </tr>\n",
       "    <tr>\n",
       "      <th>532</th>\n",
       "      <td>2.50670</td>\n",
       "      <td>96.173</td>\n",
       "      <td>0.0</td>\n",
       "      <td>0.000000</td>\n",
       "    </tr>\n",
       "    <tr>\n",
       "      <th>588</th>\n",
       "      <td>2.40760</td>\n",
       "      <td>122.258</td>\n",
       "      <td>3.0</td>\n",
       "      <td>0.000000</td>\n",
       "    </tr>\n",
       "  </tbody>\n",
       "</table>\n",
       "<p>378 rows × 4 columns</p>\n",
       "</div>"
      ],
      "text/plain": [
       "      MolLogP    MolWt  NumRotatableBonds  AromaticProportion\n",
       "822   2.91000  172.268                7.0            0.000000\n",
       "118   7.27400  360.882                1.0            0.666667\n",
       "347   1.94040  145.161                0.0            0.909091\n",
       "1123  1.98640  119.378                0.0            0.000000\n",
       "924   1.70062  108.140                0.0            0.750000\n",
       "...       ...      ...                ...                 ...\n",
       "615   3.47890  170.211                2.0            0.923077\n",
       "533   0.69300  210.233                0.0            0.000000\n",
       "789   0.84980  196.202                2.0            0.000000\n",
       "532   2.50670   96.173                0.0            0.000000\n",
       "588   2.40760  122.258                3.0            0.000000\n",
       "\n",
       "[378 rows x 4 columns]"
      ]
     },
     "execution_count": 14,
     "metadata": {},
     "output_type": "execute_result"
    }
   ],
   "source": [
    "x_test"
   ]
  },
  {
   "cell_type": "markdown",
   "id": "c883f0a5",
   "metadata": {},
   "source": [
    "### Training using Linear Regression"
   ]
  },
  {
   "cell_type": "code",
   "execution_count": 15,
   "id": "e458aa72",
   "metadata": {},
   "outputs": [],
   "source": [
    "from sklearn.linear_model import LinearRegression"
   ]
  },
  {
   "cell_type": "code",
   "execution_count": 18,
   "id": "2120e22f",
   "metadata": {},
   "outputs": [
    {
     "data": {
      "text/plain": [
       "LinearRegression()"
      ]
     },
     "execution_count": 18,
     "metadata": {},
     "output_type": "execute_result"
    }
   ],
   "source": [
    "lr=LinearRegression()\n",
    "lr.fit(x_train,y_train)"
   ]
  },
  {
   "cell_type": "code",
   "execution_count": 19,
   "id": "9ca16cbc",
   "metadata": {},
   "outputs": [],
   "source": [
    "train_pred=lr.predict(x_train)\n",
    "test_pred=lr.predict(x_test)"
   ]
  },
  {
   "cell_type": "code",
   "execution_count": 20,
   "id": "e350e20b",
   "metadata": {},
   "outputs": [
    {
     "name": "stdout",
     "output_type": "stream",
     "text": [
      "[-4.00245317 -0.41519498 -3.72702066 -3.20289543 -3.27675032 -3.46886813\n",
      " -0.67321115 -4.62946881 -2.5110779  -1.55900555  0.14421601 -2.05039413\n",
      " -2.50498916 -5.1593603  -3.80202897 -2.05682024 -3.08116871 -5.07000655\n",
      " -4.56580931 -0.55210854 -2.09185528 -0.11721804 -2.14922673 -3.89132484\n",
      " -7.87273564 -1.74523707 -3.90310729 -1.12344633 -5.37014575 -0.34901951\n",
      " -5.13203685 -6.55371601 -2.36628581 -3.65772807 -1.10518716 -1.53493312\n",
      " -1.04418844 -2.15232842 -1.34793342 -1.66679847 -5.53022761 -4.38815294\n",
      " -6.16878057 -5.75563799 -5.39898    -2.12048375 -2.39112245 -1.18186663\n",
      " -2.78393125 -2.77015555 -0.94106831 -0.03399086 -2.98975695 -3.45688571\n",
      " -3.05782288 -2.41238986 -6.52989976 -4.63819666 -3.34947999 -1.63788822\n",
      " -0.32700907 -4.91753751 -1.47150951 -2.51508498 -5.02073439 -1.11621082\n",
      " -3.60161088 -7.24646301 -0.36933702 -3.44201989 -5.61118353 -8.56776287\n",
      " -2.63090522 -1.32466397 -4.73244648 -1.91888421 -1.73951218 -2.03050854\n",
      " -6.43904334 -5.45583557 -5.53341594 -4.94567166 -1.81886065 -3.12399374\n",
      " -1.15059353 -3.51691566 -1.61223913 -3.30371431 -4.68413017  0.66274865\n",
      " -3.60387457 -4.63936823 -2.48920764 -1.01013223 -0.66059278 -2.78393125\n",
      " -1.96614253 -1.21515672 -2.0319379  -0.4497749  -1.58204375 -1.70825963\n",
      " -4.73421713 -2.3326536  -1.86775294 -4.92412921 -3.50113448 -0.99866539\n",
      " -2.40507954 -2.39387781 -3.32641002 -2.45393685 -2.45393685 -2.07281707\n",
      " -5.82900235 -2.08546815 -1.69940817 -5.07000655 -2.70216459 -2.74492215\n",
      " -3.06471524  1.22843712 -1.94734361 -2.33006288 -1.56546229 -2.64533334\n",
      " -2.7216009  -1.6685128  -3.78600413 -2.7190202  -0.96499512 -6.17152136\n",
      " -2.55924439 -4.2133997  -1.52136587 -4.14734254 -1.86817318 -0.38902502\n",
      " -2.99478085 -4.48586665 -2.01781113 -2.2542598  -2.18576018 -4.05518488\n",
      " -2.45427146 -1.18186663 -1.7018725  -0.99866539 -6.34431385 -2.11525641\n",
      " -9.9045282  -1.50152191 -7.71859364 -3.0042323  -2.88310494 -4.20998692\n",
      " -2.00954901 -2.33243347 -2.79607531 -3.08527566 -4.41723801 -0.79827317\n",
      " -2.61621074 -2.50304181 -0.76056169 -4.64664589 -4.39662948 -2.28512853\n",
      " -2.59228953 -3.37292588 -1.50152191 -0.73261517 -2.06242935 -2.90560541\n",
      " -4.56580931 -1.16772206 -2.7216009  -3.51047969 -3.09532227 -1.1801545\n",
      " -4.37712158 -1.92608439 -4.17114141 -4.9740731  -1.7629455  -2.35530996\n",
      " -3.58649108 -2.79438863 -3.22231611 -2.23565795 -2.12711839 -4.94981589\n",
      " -1.37592119 -4.63589295 -2.29322998 -2.9998064  -5.15077967 -4.68923822\n",
      " -2.95210279 -2.14475254 -2.64206334 -4.53694575 -3.40679678 -2.97693697\n",
      " -2.6249448  -7.81861997 -2.31199595 -3.92094042 -3.13175262 -2.99629496\n",
      " -4.18904285 -2.57076509 -5.75260084 -1.84074756 -1.45543757 -2.01360058\n",
      " -7.4617159  -6.09194946 -3.2178731  -2.12402357 -8.89280289 -3.14548444\n",
      " -3.70870887 -0.97929073 -3.16524178 -5.48697569 -1.11168153 -4.13743529\n",
      " -0.44801173 -4.68091937 -0.51944017 -3.22639543 -1.56546229 -4.86657284\n",
      " -1.07527058 -3.07279905 -5.00379877 -3.9746385  -1.66679847 -4.69891042\n",
      " -1.24033548 -4.30335832 -4.29868482 -2.22265046 -4.3328725  -0.21941947\n",
      " -6.05724823 -3.64841619 -4.08331093 -3.27511865 -1.72360807 -4.63713873\n",
      " -2.67128464 -2.82097635 -3.37255683 -2.14656469 -5.45515792  2.02672061\n",
      " -0.09297717 -1.46846664 -2.48812981 -2.06125913 -5.93931774 -2.51333606\n",
      " -2.87648601 -1.55620669 -5.76060614 -1.94734361 -4.64309871 -3.9554083\n",
      " -1.28320282 -1.84901943 -6.05734823 -4.75908466 -2.11583534 -1.22567754\n",
      " -4.63819666 -1.72861788 -3.17343671 -2.3326536  -2.73248624  1.50908307\n",
      " -3.28664281 -2.39719624 -3.88824146 -5.53341594 -1.62050248 -2.27325485\n",
      " -2.3200702  -2.72274892 -3.88426988 -2.8647624  -1.56374796 -0.79827098\n",
      " -5.40433005 -3.28137669 -1.80932769 -2.08546815 -0.41467532 -5.35496915\n",
      " -0.65688159 -3.86465335 -3.83209594 -3.68081634 -3.34600816 -4.5009175\n",
      " -5.05962161 -5.19422615 -6.12975874 -0.60057691 -2.99478085 -7.81861997\n",
      " -1.45595504 -4.64988865 -2.37356164 -3.73683893 -4.62946881 -4.19871164\n",
      " -2.18576018 -3.01237284 -2.48812981 -1.86192891 -3.58723456 -3.51690351\n",
      " -3.1478322  -7.12660268 -2.7190202  -3.37326053 -1.80932769 -3.87874001\n",
      " -1.70997395 -2.85904659 -2.20245631 -6.73272477 -8.05361548 -5.35065434\n",
      " -4.19992426 -5.00636811 -1.36335574 -1.31827684 -1.90496153 -4.01545569\n",
      " -4.28410386 -1.3716323  -0.35244817 -1.50152191 -2.34565886 -1.24727747\n",
      " -0.94278264 -2.39376758 -4.10129737 -2.6479777  -7.32244434 -3.45709824\n",
      " -0.80118217 -3.23235162 -2.78393125 -2.68990693 -0.84379622  0.37886005\n",
      " -8.76074932 -6.12710825 -2.50304181 -0.83254076 -3.71849513 -4.35910441\n",
      " -0.77940737  2.09039367 -1.96614253 -2.69918365 -2.73368867 -2.78241091\n",
      " -2.93386272 -2.26699779 -4.43404679 -3.42395102 -2.94470338 -4.52690579\n",
      " -3.10275611 -1.45595504 -6.65784131 -1.27610771 -3.57736086 -4.87326115\n",
      " -2.06476941 -5.53341594 -1.10441052 -2.79427119 -2.39375731 -2.66909494\n",
      " -3.44910121 -2.39925714 -4.97582146 -6.43861444 -5.13203685 -5.05126131\n",
      " -1.6576184  -2.35986812 -2.05682024 -3.38340205 -1.39029923 -2.75848584\n",
      " -2.27590451 -5.52682378 -4.2938656  -6.12975874 -1.49980648 -4.03506187\n",
      " -0.30293465 -3.41778476 -5.32795972 -2.65078647 -0.29689608 -5.88756914\n",
      " -1.6576184  -7.12744392 -1.6576184  -4.34932886 -3.27511865 -4.01545569\n",
      " -2.63785545 -2.58652151 -1.45252638 -3.3146152  -4.11153749  0.87434969\n",
      " -0.69783145 -0.52395245 -1.45886623 -4.2900544  -3.52270511 -3.68801156\n",
      " -3.09921522 -1.34905605 -2.35010464 -3.712314   -6.02676305  1.7644793\n",
      " -5.75260084 -1.11621082 -3.78645167 -2.01104012 -4.23201286 -4.34204469\n",
      " -2.22605755 -3.75199017 -3.80202897 -4.33171946 -0.77940737 -2.72709514\n",
      " -2.28855718 -3.01385901 -4.57534202 -2.05682024 -2.18649125  0.2617977\n",
      " -2.33243347 -3.17748854 -5.16498077 -1.11621082 -2.80530018 -3.83167213\n",
      " -0.55065425 -1.79527762 -3.0341891  -2.66555429 -3.43954148 -1.3263783\n",
      " -2.35530996 -5.29357701 -3.40504676 -2.33243347 -3.15941883 -0.78108354\n",
      " -2.29501999 -7.24922049 -4.24424438 -0.37868036 -0.90132149 -2.82472178\n",
      " -2.36349751 -1.32466397 -5.36845995 -4.62946881 -3.36282273 -4.53821286\n",
      " -1.1801523  -1.38226105 -0.60789851 -5.47933245 -2.80773659 -4.66515879\n",
      " -4.18497607 -3.7759384  -2.87864155  0.49651804 -2.72621854 -6.43861444\n",
      " -3.41778476 -1.29909832 -7.40485529 -2.33093927 -1.94734361 -3.30274029\n",
      " -0.95850052 -1.46555544  2.67170426 -2.54545681 -1.52557017 -1.43697933\n",
      " -5.48558967 -2.81591275 -5.82900235 -0.69994679 -4.49309561 -3.40223273\n",
      " -1.87066414 -3.03256157 -1.07184192 -1.45886623 -2.7924361  -6.13335749\n",
      " -7.17594684 -1.96614253 -3.91508167 -3.60584346 -6.43861444 -2.05682024\n",
      " -3.68801156 -5.53741077 -2.91915392 -3.27692045 -2.7216009  -2.51159536\n",
      " -1.08487099 -2.89029915 -1.07527058 -1.46812059 -1.11963948 -4.69027211\n",
      "  2.09330486 -1.79553418 -8.51177209 -4.34932886 -1.16438393 -2.23188324\n",
      " -1.92271562 -1.8520623  -9.20660387 -3.66649136 -2.28230771 -0.45330157\n",
      " -7.60295427 -2.13709495 -1.89416107 -1.76003431 -4.3351045  -1.9050464\n",
      " -5.30547495 -3.72702066 -3.34023009 -3.83209594 -3.84383283 -1.72599628\n",
      " -2.82057111 -1.88657428 -3.94010129 -2.50327483 -4.15440377 -0.4497749\n",
      " -2.78241091 -2.08087111 -1.55819453 -3.75743523 -1.22899767 -1.08182812\n",
      " -3.90310729 -1.08871155 -2.73248624 -1.74255505 -2.19424356 -3.55558863\n",
      " -6.71750302 -1.50152191 -0.20820469 -1.70754385 -2.14604503 -4.0471765\n",
      " -2.35485727 -1.86413785 -1.39372789 -3.07987613 -4.23282008 -6.55371601\n",
      " -4.63819666 -4.67661575 -2.00752679 -3.12399374 -5.07000655  0.6535093\n",
      " -8.51177209 -4.23272132 -2.73488554 -2.12310783 -1.51678108 -2.65059345\n",
      " -3.56978447 -5.68962234 -5.01095965 -0.90506826 -3.50517511 -1.38495566\n",
      " -1.94905794 -2.65059345 -5.87683304 -3.70864745 -2.63662408 -2.44036157\n",
      " -3.95143357 -8.51177209 -0.39920221 -3.80138042 -3.25924875 -5.63421614\n",
      " -4.18382985 -6.42507142 -2.26699779 -3.700358   -6.43720992 -1.49980648\n",
      " -2.43570412 -1.88340214 -2.12402357 -1.28491715 -3.17773599 -2.23355001\n",
      " -3.83167213 -2.44442072 -2.74850129 -2.71624926 -1.55897651 -2.89029915\n",
      " -7.81861997 -2.74492215 -7.81861997 -6.53598697 -2.53304801 -2.57868535\n",
      " -6.06857164 -2.71201395 -2.37053872 -3.80202897 -6.43861444 -1.32374944\n",
      " -1.6004667  -4.08331093 -2.424575   -6.04693882 -1.62649702 -5.29210307\n",
      " -3.86382261 -2.13233861 -4.27639398 -2.60234417 -7.1801489  -1.52787013\n",
      " -1.08871155 -4.23146388 -4.61956349 -3.79159374 -2.11967917 -3.83679274\n",
      " -1.21934601 -3.75076889 -4.28539676 -1.39023853 -3.41335284 -2.58605196\n",
      " -1.38226105 -3.07912836 -3.92209642 -2.35530996 -0.69167492 -4.18011965\n",
      " -0.65052933 -1.07235938 -1.59532371 -3.87901629 -2.73957514 -3.4306908\n",
      " -3.92139219 -2.52467422 -1.88340214 -1.75013092 -0.76056169 -4.22797601\n",
      " -1.48629185 -1.11329963 -1.9689882  -7.05602464 -2.71916045 -2.09185528\n",
      " -3.4425047  -2.50304181 -2.14562974 -1.85510517 -1.60001166 -4.01545569\n",
      " -2.04356567 -4.47545701 -2.62271745 -1.69665073 -5.53741077 -7.81861997\n",
      " -2.12661136 -6.09762681 -0.69496518 -1.89416107 -3.68542    -3.26566458\n",
      " -3.54723866 -0.85673983 -4.49309561 -3.95143357 -2.3006512  -1.7658567\n",
      " -2.73248624 -1.60760043 -3.36746929 -1.67621502 -4.19871164 -4.39162061\n",
      " -2.6686818  -5.53659141 -2.40613324 -5.06626934 -3.78864242 -2.92575184\n",
      " -3.7164554  -3.64841619 -2.7590033  -0.73313263 -2.35420521  1.7644793\n",
      " -3.22273052 -3.72702066 -3.16095889 -4.36141587 -0.40833092 -5.24533538\n",
      " -6.52245269 -1.77389488 -1.79553418 -1.90279311 -5.53562629 -2.05210846\n",
      " -3.19827281 -6.73272477 -5.44279059 -1.21418758 -3.34410121 -3.99730811\n",
      " -1.87160184 -6.12710825 -3.86994742 -3.76801371] [ -3.0341891   -7.81861997  -2.55801073  -1.99168032  -2.06476941\n",
      "  -0.9891984   -0.55918699  -0.49935996  -5.75260084  -3.93688741\n",
      "  -3.9804133   -2.30061901  -1.46542377  -1.45886623  -4.62933541\n",
      "  -1.89416107  -1.48706848  -3.14834966  -3.70165705  -5.57531557\n",
      "  -3.25924875  -5.07000655  -5.7264976   -2.12310783  -4.33697578\n",
      "  -5.05255207  -3.090942    -4.4018031   -4.21573862   0.60538785\n",
      "  -1.39915113  -4.37944064  -2.56784945  -1.50615308  -0.53306916\n",
      "  -1.64862721  -2.7630357   -3.13076041  -5.25588243  -1.74541016\n",
      "  -1.52787013  -2.00441611  -6.59751848  -7.8973404   -5.78823201\n",
      "  -4.15863325  -3.40282274   1.51199427   0.03921819  -2.34565886\n",
      "  -1.83783636  -5.05255207   0.91380788  -3.15906771  -5.0615576\n",
      "  -1.9830092   -7.81861997  -1.18477783  -0.86368181  -5.07000655\n",
      "  -2.43612609  -2.82045711  -2.51333606  -2.3355648   -1.62649702\n",
      "  -1.49980648  -3.22931431  -2.85904659  -1.84809817  -3.22273052\n",
      "  -3.39298957  -0.87069691  -4.82741668  -0.73261517  -7.09222422\n",
      " -10.6003902   -1.92678102  -3.48344057  -7.18584079  -6.05734823\n",
      "  -2.0386117   -2.30128513  -3.43616511  -2.06587263  -6.05734823\n",
      "  -2.89220925  -4.87817136  -0.31806546  -3.56418078  -1.17859757\n",
      "  -4.39162061  -0.39810748  -1.62649702  -2.47611116  -2.14287844\n",
      "  -1.4571519   -3.2178731   -1.48800618  -1.61594356  -3.67581238\n",
      "  -3.28137669  -3.95601471  -4.23267324  -3.67498256  -5.97283149\n",
      "  -1.42551231  -1.94905794  -1.81137975  -1.11168153  -3.07912836\n",
      "  -4.87817136  -2.18649125  -1.66508415  -2.19493319   1.97240825\n",
      "  -3.60956471  -2.77736323  -2.39719624  -0.71348058  -0.81824563\n",
      "  -0.05105432  -6.15390661  -3.80202897  -7.81861997  -1.76326294\n",
      "  -2.51137982  -3.75593877  -2.23261508  -2.59185132  -2.06476941\n",
      "  -3.30711171  -1.0042712   -6.69423424  -1.9050464   -2.56658654\n",
      "  -2.18576018  -1.87370701  -2.81044904  -4.15440377  -5.75260084\n",
      "  -1.58566086  -3.64822434  -4.63819666  -2.46403271   1.19736502\n",
      "  -1.66949529  -7.12744392  -3.80202897  -2.9886143   -5.80413356\n",
      "  -2.4200957   -5.31330648  -0.50668711  -3.50577855  -3.50517511\n",
      "  -1.9894402   -4.48586665  -3.6550758   -4.57317303  -5.57360125\n",
      "  -5.31285982  -2.36765802  -4.87497694  -2.60119675  -3.12399374\n",
      "  -2.05682024  -1.62393114  -4.93354672  -3.95143357  -4.24541407\n",
      "  -3.15803735  -3.50553442  -3.83710043  -3.77453783  -2.55801073\n",
      "  -1.94905794  -2.57868535  -5.38859849  -5.46547003  -3.02145111\n",
      "  -1.8491511   -2.23103243  -2.87041735  -3.43100921  -6.08451409\n",
      "  -1.87284078  -1.95196914  -2.45393685  -2.77471811  -4.76460224\n",
      "  -1.70997822  -7.12744392  -2.85702193  -2.69739066  -4.34505794\n",
      "  -3.12399374  -3.85842826   0.0561312   -4.48586665  -6.12975874\n",
      "  -5.19171992  -6.43861444  -4.08989726  -1.04514447   2.09330486\n",
      "  -3.64841619  -0.81533444  -3.28079909  -4.79739904  -1.45886623\n",
      "  -2.24478267  -4.10144704  -4.39154162  -1.88452292  -1.46940202\n",
      "   0.03114748  -1.70825963  -2.34565886  -0.41758652  -4.19024557\n",
      "  -1.85219397  -3.72702066  -1.56837349  -3.24264225  -4.13682375\n",
      "  -6.72610154  -1.18206504  -3.12756554  -4.80882401  -2.81929977\n",
      "   0.90332807  -0.46191489  -0.08003357  -1.59875237  -2.85839364\n",
      "  -2.30459694  -4.15387224  -5.07000655  -2.30061901  -3.15803735\n",
      "  -4.3294171   -1.38392314  -2.56921661  -7.12744392  -2.33463678\n",
      "  -4.19913545  -2.61925361  -3.56607966  -3.74194201  -2.55801073\n",
      "  -3.28137669  -2.80373814  -2.67655129  -0.73604383  -6.62148218\n",
      "  -3.0042323   -2.36190078  -7.18584079  -1.52162032  -4.8272603\n",
      "  -0.83845628  -7.12744392  -1.86081395  -2.56109448  -4.81115599\n",
      "  -4.18397051  -1.92678102  -3.49374253  -2.72104633  -1.85000191\n",
      "  -2.43398979  -3.04815224  -1.45886623  -3.96218261  -1.34905605\n",
      "  -0.12484082  -6.0456177   -3.28835053   0.34789047  -3.22659299\n",
      "  -5.30788132  -0.43464998  -4.78816073  -5.81978347  -2.6881926\n",
      "  -3.72702066  -2.47545094  -2.08546815  -3.12053912  -2.78955695\n",
      "  -1.38035548  -4.31485938  -3.54562008  -3.4425047   -9.20660387\n",
      "  -6.55371601  -1.73004344  -4.96663163  -1.56374796  -1.88340214\n",
      "  -2.78755469  -1.1016151   -1.60564759  -1.59875237  -5.32586313\n",
      "  -3.8758071    0.76085393  -3.98429388  -2.19954511  -2.63452666\n",
      "  -1.79553418  -4.18077884  -0.27699712  -3.36282273  -2.93453497\n",
      "  -3.00284927  -1.98468874  -2.94470338  -2.56184871  -6.78709189\n",
      "  -2.34565886  -3.12399374  -0.78412641  -1.66679847  -1.17895763\n",
      "  -3.46317424  -4.97425115  -4.38239139  -1.5632005   -1.31827684\n",
      "  -1.98115469  -2.61300292  -2.89220925  -5.17405616  -5.6735209\n",
      "  -3.04991158  -5.18623899  -1.35591652  -4.56580931  -3.72136794\n",
      "  -5.49053479  -3.4039676   -6.02473415  -3.79095221  -5.75260084\n",
      "  -0.17517586  -0.52412284  -1.4503665   -4.19871164  -5.30788132\n",
      "  -5.30138033  -4.68325826  -2.54710761  -1.88340214  -5.00549421\n",
      "  -1.27610771  -4.93105363  -5.75260084  -1.59236525  -0.4748585\n",
      "  -2.77963273  -3.40543858  -3.73971758  -2.10285458  -2.33093927\n",
      "  -4.4745168   -1.33818658  -2.98840114  -1.07817833  -2.64487528\n",
      "  -2.02355311  -3.83209594  -3.40543858  -3.87984854  -1.60755887\n",
      "  -1.63818495  -2.23188324  -2.33039181]\n"
     ]
    }
   ],
   "source": [
    "print(train_pred,test_pred)"
   ]
  },
  {
   "cell_type": "markdown",
   "id": "4adf305a",
   "metadata": {},
   "source": [
    "## Model Evaluation"
   ]
  },
  {
   "cell_type": "code",
   "execution_count": 21,
   "id": "aff279e2",
   "metadata": {},
   "outputs": [],
   "source": [
    "from sklearn.metrics import mean_squared_error,r2_score"
   ]
  },
  {
   "cell_type": "code",
   "execution_count": 22,
   "id": "c203dc27",
   "metadata": {},
   "outputs": [],
   "source": [
    "train_mse=mean_squared_error(train_pred,y_train)\n",
    "train_r2=r2_score(train_pred,y_train)\n",
    "test_mse=mean_squared_error(test_pred,y_test)\n",
    "test_r2=r2_score(test_pred,y_test)"
   ]
  },
  {
   "cell_type": "code",
   "execution_count": 27,
   "id": "d0fe1d3d",
   "metadata": {
    "scrolled": true
   },
   "outputs": [
    {
     "name": "stdout",
     "output_type": "stream",
     "text": [
      "MSE(Train) 1.052966730447216\n",
      "R2(Train) 0.6880368313077403\n",
      "MSE(Test) 0.9235637776099944\n",
      "R2(Test) 0.7343490549290334\n"
     ]
    }
   ],
   "source": [
    "print(\"MSE(Train)\",train_mse)\n",
    "print(\"R2(Train)\",train_r2)\n",
    "print(\"MSE(Test)\",test_mse)\n",
    "print(\"R2(Test)\",test_r2)"
   ]
  },
  {
   "cell_type": "markdown",
   "id": "0ffd9531",
   "metadata": {},
   "source": [
    "Creating this as a DataFrame will make it more tidy and hence we are proceeding with that."
   ]
  },
  {
   "cell_type": "code",
   "execution_count": 88,
   "id": "57b82372",
   "metadata": {},
   "outputs": [],
   "source": [
    "data=['Linear Regression',train_mse,train_r2,test_mse,test_r2]"
   ]
  },
  {
   "cell_type": "code",
   "execution_count": 89,
   "id": "68d4c8cf",
   "metadata": {},
   "outputs": [],
   "source": [
    "Y=pd.DataFrame(data).transpose()"
   ]
  },
  {
   "cell_type": "code",
   "execution_count": 90,
   "id": "c744f35d",
   "metadata": {},
   "outputs": [
    {
     "data": {
      "text/html": [
       "<div>\n",
       "<style scoped>\n",
       "    .dataframe tbody tr th:only-of-type {\n",
       "        vertical-align: middle;\n",
       "    }\n",
       "\n",
       "    .dataframe tbody tr th {\n",
       "        vertical-align: top;\n",
       "    }\n",
       "\n",
       "    .dataframe thead th {\n",
       "        text-align: right;\n",
       "    }\n",
       "</style>\n",
       "<table border=\"1\" class=\"dataframe\">\n",
       "  <thead>\n",
       "    <tr style=\"text-align: right;\">\n",
       "      <th></th>\n",
       "      <th>0</th>\n",
       "      <th>1</th>\n",
       "      <th>2</th>\n",
       "      <th>3</th>\n",
       "      <th>4</th>\n",
       "    </tr>\n",
       "  </thead>\n",
       "  <tbody>\n",
       "    <tr>\n",
       "      <th>0</th>\n",
       "      <td>Linear Regression</td>\n",
       "      <td>1.052967</td>\n",
       "      <td>0.688037</td>\n",
       "      <td>0.923564</td>\n",
       "      <td>0.734349</td>\n",
       "    </tr>\n",
       "  </tbody>\n",
       "</table>\n",
       "</div>"
      ],
      "text/plain": [
       "                   0         1         2         3         4\n",
       "0  Linear Regression  1.052967  0.688037  0.923564  0.734349"
      ]
     },
     "execution_count": 90,
     "metadata": {},
     "output_type": "execute_result"
    }
   ],
   "source": [
    "Y"
   ]
  },
  {
   "cell_type": "code",
   "execution_count": 91,
   "id": "8af2525f",
   "metadata": {},
   "outputs": [],
   "source": [
    "Y.columns=['Method','MSE(Train)','R2(Train)','MSE(Test)','R2(Test)']"
   ]
  },
  {
   "cell_type": "code",
   "execution_count": 92,
   "id": "b370d831",
   "metadata": {},
   "outputs": [
    {
     "data": {
      "text/html": [
       "<div>\n",
       "<style scoped>\n",
       "    .dataframe tbody tr th:only-of-type {\n",
       "        vertical-align: middle;\n",
       "    }\n",
       "\n",
       "    .dataframe tbody tr th {\n",
       "        vertical-align: top;\n",
       "    }\n",
       "\n",
       "    .dataframe thead th {\n",
       "        text-align: right;\n",
       "    }\n",
       "</style>\n",
       "<table border=\"1\" class=\"dataframe\">\n",
       "  <thead>\n",
       "    <tr style=\"text-align: right;\">\n",
       "      <th></th>\n",
       "      <th>Method</th>\n",
       "      <th>MSE(Train)</th>\n",
       "      <th>R2(Train)</th>\n",
       "      <th>MSE(Test)</th>\n",
       "      <th>R2(Test)</th>\n",
       "    </tr>\n",
       "  </thead>\n",
       "  <tbody>\n",
       "    <tr>\n",
       "      <th>0</th>\n",
       "      <td>Linear Regression</td>\n",
       "      <td>1.052967</td>\n",
       "      <td>0.688037</td>\n",
       "      <td>0.923564</td>\n",
       "      <td>0.734349</td>\n",
       "    </tr>\n",
       "  </tbody>\n",
       "</table>\n",
       "</div>"
      ],
      "text/plain": [
       "              Method MSE(Train) R2(Train) MSE(Test)  R2(Test)\n",
       "0  Linear Regression   1.052967  0.688037  0.923564  0.734349"
      ]
     },
     "execution_count": 92,
     "metadata": {},
     "output_type": "execute_result"
    }
   ],
   "source": [
    "Y"
   ]
  },
  {
   "cell_type": "markdown",
   "id": "2ff1e9d0",
   "metadata": {},
   "source": [
    "### Training the model using RandomForestRegressor"
   ]
  },
  {
   "cell_type": "code",
   "execution_count": 65,
   "id": "2eab4701",
   "metadata": {},
   "outputs": [],
   "source": [
    "from sklearn.ensemble import RandomForestRegressor"
   ]
  },
  {
   "cell_type": "code",
   "execution_count": 66,
   "id": "9e1f6987",
   "metadata": {},
   "outputs": [
    {
     "data": {
      "text/plain": [
       "RandomForestRegressor(max_depth=2, random_state=100)"
      ]
     },
     "execution_count": 66,
     "metadata": {},
     "output_type": "execute_result"
    }
   ],
   "source": [
    "rf=RandomForestRegressor(max_depth=2,random_state=100)\n",
    "rf.fit(x_train,y_train)"
   ]
  },
  {
   "cell_type": "code",
   "execution_count": 67,
   "id": "cfce6a5b",
   "metadata": {},
   "outputs": [],
   "source": [
    "rf_train_pred=rf.predict(x_train)\n",
    "rf_test_pred=rf.predict(x_test)"
   ]
  },
  {
   "cell_type": "markdown",
   "id": "313621ed",
   "metadata": {},
   "source": [
    "## Model Evaluation"
   ]
  },
  {
   "cell_type": "code",
   "execution_count": 69,
   "id": "4e569462",
   "metadata": {},
   "outputs": [],
   "source": [
    "rf_train_mse=mean_squared_error(rf_train_pred,y_train)\n",
    "rf_train_r2=r2_score(rf_train_pred,y_train)\n",
    "rf_test_mse=mean_squared_error(rf_test_pred,y_test)\n",
    "rf_test_r2=r2_score(rf_test_pred,y_test)"
   ]
  },
  {
   "cell_type": "code",
   "execution_count": 93,
   "id": "23775b87",
   "metadata": {},
   "outputs": [],
   "source": [
    "data2=['Random Forest',rf_train_mse,rf_train_r2,rf_test_mse,rf_test_r2]\n",
    "Y1=pd.DataFrame(data2).transpose()"
   ]
  },
  {
   "cell_type": "code",
   "execution_count": 94,
   "id": "35595d85",
   "metadata": {},
   "outputs": [
    {
     "data": {
      "text/html": [
       "<div>\n",
       "<style scoped>\n",
       "    .dataframe tbody tr th:only-of-type {\n",
       "        vertical-align: middle;\n",
       "    }\n",
       "\n",
       "    .dataframe tbody tr th {\n",
       "        vertical-align: top;\n",
       "    }\n",
       "\n",
       "    .dataframe thead th {\n",
       "        text-align: right;\n",
       "    }\n",
       "</style>\n",
       "<table border=\"1\" class=\"dataframe\">\n",
       "  <thead>\n",
       "    <tr style=\"text-align: right;\">\n",
       "      <th></th>\n",
       "      <th>0</th>\n",
       "      <th>1</th>\n",
       "      <th>2</th>\n",
       "      <th>3</th>\n",
       "      <th>4</th>\n",
       "    </tr>\n",
       "  </thead>\n",
       "  <tbody>\n",
       "    <tr>\n",
       "      <th>0</th>\n",
       "      <td>Random Forest</td>\n",
       "      <td>1.031947</td>\n",
       "      <td>0.668339</td>\n",
       "      <td>1.204209</td>\n",
       "      <td>0.624672</td>\n",
       "    </tr>\n",
       "  </tbody>\n",
       "</table>\n",
       "</div>"
      ],
      "text/plain": [
       "               0         1         2         3         4\n",
       "0  Random Forest  1.031947  0.668339  1.204209  0.624672"
      ]
     },
     "execution_count": 94,
     "metadata": {},
     "output_type": "execute_result"
    }
   ],
   "source": [
    "Y1"
   ]
  },
  {
   "cell_type": "code",
   "execution_count": 95,
   "id": "7b14da43",
   "metadata": {},
   "outputs": [],
   "source": [
    "Y1.columns=['Method','MSE(Train)','R2(Train)','MSE(Test)','R2(Test)']"
   ]
  },
  {
   "cell_type": "code",
   "execution_count": 96,
   "id": "bcf195ba",
   "metadata": {},
   "outputs": [
    {
     "data": {
      "text/html": [
       "<div>\n",
       "<style scoped>\n",
       "    .dataframe tbody tr th:only-of-type {\n",
       "        vertical-align: middle;\n",
       "    }\n",
       "\n",
       "    .dataframe tbody tr th {\n",
       "        vertical-align: top;\n",
       "    }\n",
       "\n",
       "    .dataframe thead th {\n",
       "        text-align: right;\n",
       "    }\n",
       "</style>\n",
       "<table border=\"1\" class=\"dataframe\">\n",
       "  <thead>\n",
       "    <tr style=\"text-align: right;\">\n",
       "      <th></th>\n",
       "      <th>Method</th>\n",
       "      <th>MSE(Train)</th>\n",
       "      <th>R2(Train)</th>\n",
       "      <th>MSE(Test)</th>\n",
       "      <th>R2(Test)</th>\n",
       "    </tr>\n",
       "  </thead>\n",
       "  <tbody>\n",
       "    <tr>\n",
       "      <th>0</th>\n",
       "      <td>Random Forest</td>\n",
       "      <td>1.031947</td>\n",
       "      <td>0.668339</td>\n",
       "      <td>1.204209</td>\n",
       "      <td>0.624672</td>\n",
       "    </tr>\n",
       "  </tbody>\n",
       "</table>\n",
       "</div>"
      ],
      "text/plain": [
       "          Method MSE(Train) R2(Train) MSE(Test)  R2(Test)\n",
       "0  Random Forest   1.031947  0.668339  1.204209  0.624672"
      ]
     },
     "execution_count": 96,
     "metadata": {},
     "output_type": "execute_result"
    }
   ],
   "source": [
    "Y1"
   ]
  },
  {
   "cell_type": "markdown",
   "id": "05dbad8c",
   "metadata": {},
   "source": [
    "## Model Comparison"
   ]
  },
  {
   "cell_type": "code",
   "execution_count": 97,
   "id": "eec09708",
   "metadata": {},
   "outputs": [],
   "source": [
    "models=pd.concat([Y,Y1],axis=0)"
   ]
  },
  {
   "cell_type": "code",
   "execution_count": 99,
   "id": "313f473d",
   "metadata": {},
   "outputs": [
    {
     "data": {
      "text/html": [
       "<div>\n",
       "<style scoped>\n",
       "    .dataframe tbody tr th:only-of-type {\n",
       "        vertical-align: middle;\n",
       "    }\n",
       "\n",
       "    .dataframe tbody tr th {\n",
       "        vertical-align: top;\n",
       "    }\n",
       "\n",
       "    .dataframe thead th {\n",
       "        text-align: right;\n",
       "    }\n",
       "</style>\n",
       "<table border=\"1\" class=\"dataframe\">\n",
       "  <thead>\n",
       "    <tr style=\"text-align: right;\">\n",
       "      <th></th>\n",
       "      <th>Method</th>\n",
       "      <th>MSE(Train)</th>\n",
       "      <th>R2(Train)</th>\n",
       "      <th>MSE(Test)</th>\n",
       "      <th>R2(Test)</th>\n",
       "    </tr>\n",
       "  </thead>\n",
       "  <tbody>\n",
       "    <tr>\n",
       "      <th>0</th>\n",
       "      <td>Linear Regression</td>\n",
       "      <td>1.052967</td>\n",
       "      <td>0.688037</td>\n",
       "      <td>0.923564</td>\n",
       "      <td>0.734349</td>\n",
       "    </tr>\n",
       "    <tr>\n",
       "      <th>1</th>\n",
       "      <td>Random Forest</td>\n",
       "      <td>1.031947</td>\n",
       "      <td>0.668339</td>\n",
       "      <td>1.204209</td>\n",
       "      <td>0.624672</td>\n",
       "    </tr>\n",
       "  </tbody>\n",
       "</table>\n",
       "</div>"
      ],
      "text/plain": [
       "              Method MSE(Train) R2(Train) MSE(Test)  R2(Test)\n",
       "0  Linear Regression   1.052967  0.688037  0.923564  0.734349\n",
       "1      Random Forest   1.031947  0.668339  1.204209  0.624672"
      ]
     },
     "execution_count": 99,
     "metadata": {},
     "output_type": "execute_result"
    }
   ],
   "source": [
    "models.reset_index(drop=True)"
   ]
  },
  {
   "cell_type": "markdown",
   "id": "9ee473b3",
   "metadata": {},
   "source": [
    "## Data Visualization"
   ]
  },
  {
   "cell_type": "code",
   "execution_count": 100,
   "id": "94061913",
   "metadata": {},
   "outputs": [],
   "source": [
    "import matplotlib.pyplot as plt"
   ]
  },
  {
   "cell_type": "code",
   "execution_count": 102,
   "id": "d3308d2a",
   "metadata": {},
   "outputs": [
    {
     "data": {
      "text/plain": [
       "<matplotlib.collections.PathCollection at 0x2270d0f8250>"
      ]
     },
     "execution_count": 102,
     "metadata": {},
     "output_type": "execute_result"
    },
    {
     "data": {
      "image/png": "[encoded data removed]",
      "text/plain": [
       "<Figure size 432x288 with 1 Axes>"
      ]
     },
     "metadata": {
      "needs_background": "light"
     },
     "output_type": "display_data"
    }
   ],
   "source": [
    "plt.scatter(x=y_train,y=train_pred,alpha=0.3)"
   ]
  },
  {
   "cell_type": "markdown",
   "id": "93342d00",
   "metadata": {},
   "source": [
    "#### Creating a Trendline"
   ]
  },
  {
   "cell_type": "code",
   "execution_count": 111,
   "id": "e99fec4b",
   "metadata": {},
   "outputs": [
    {
     "data": {
      "text/plain": [
       "[<matplotlib.lines.Line2D at 0x2270d5512e0>]"
      ]
     },
     "execution_count": 111,
     "metadata": {},
     "output_type": "execute_result"
    },
    {
     "data": {
      "image/png": "[encoded data removed]",
      "text/plain": [
       "<Figure size 432x288 with 1 Axes>"
      ]
     },
     "metadata": {
      "needs_background": "light"
     },
     "output_type": "display_data"
    }
   ],
   "source": [
    "import numpy as np\n",
    "plt.xlabel('Actual logS')\n",
    "plt.ylabel('Predicted logS')\n",
    "plt.scatter(x=y_train,y=train_pred,alpha=0.3)\n",
    "z=np.polyfit(y_train,train_pred,1)\n",
    "p=np.poly1d(z)\n",
    "plt.plot(y_train,p(y_train))"
   ]
  },
  {
   "cell_type": "code",
   "execution_count": null,
   "id": "633f8d69",
   "metadata": {},
   "outputs": [],
   "source": []
  }
 ],
 "metadata": {
  "kernelspec": {
   "display_name": "Python 3 (ipykernel)",
   "language": "python",
   "name": "python3"
  },
  "language_info": {
   "codemirror_mode": {
    "name": "ipython",
    "version": 3
   },
   "file_extension": ".py",
   "mimetype": "text/x-python",
   "name": "python",
   "nbconvert_exporter": "python",
   "pygments_lexer": "ipython3",
   "version": "3.9.7"
  }
 },
 "nbformat": 4,
 "nbformat_minor": 5
}
